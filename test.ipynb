{
 "cells": [
  {
   "cell_type": "code",
   "execution_count": 26,
   "metadata": {},
   "outputs": [],
   "source": [
    "# Imports Pandas and sets display settings.\n",
    "import pandas as pd\n",
    "\n",
    "pd.set_option('display.max_rows', None)\n",
    "pd.set_option('display.max_columns', None)\n",
    "pd.set_option('display.max_colwidth', None)\n",
    "pd.options.display.float_format = '{:.0f}'.format"
   ]
  },
  {
   "cell_type": "code",
   "execution_count": null,
   "metadata": {},
   "outputs": [],
   "source": [
    "# Enables the %%sql magic for cells in a notebook. The output of a SQL cell can be referenced by [VARIABLE] = _ (underscore).\n",
    "from IPython.core.magic import register_cell_magic\n",
    "from pandasql import sqldf\n",
    "\n",
    "@register_cell_magic\n",
    "def sql(line, cell):\n",
    "    query = sqldf(cell)\n",
    "    return query.head()"
   ]
  },
  {
   "cell_type": "code",
   "execution_count": 28,
   "metadata": {},
   "outputs": [],
   "source": [
    "df = pd.DataFrame({\n",
    "    'Name': ['Alice', 'Bob', 'Charlie', 'David', 'Eva'],\n",
    "    'Math': [85, 78, 92, 88, 77],\n",
    "    'Science': [90, 82, 95, 85, 80],\n",
    "    'English': [88, 74, 91, 89, 78]\n",
    "})"
   ]
  }
}
